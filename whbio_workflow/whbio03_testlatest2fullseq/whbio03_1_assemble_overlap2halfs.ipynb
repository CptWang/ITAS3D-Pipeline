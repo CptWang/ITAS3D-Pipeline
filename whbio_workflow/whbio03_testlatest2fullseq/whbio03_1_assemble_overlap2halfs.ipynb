{
 "cells": [
  {
   "cell_type": "code",
   "execution_count": 1,
   "metadata": {},
   "outputs": [],
   "source": [
    "import numpy as np\n",
    "from matplotlib import pyplot as plt\n",
    "from skimage import io, color\n",
    "from tifffile import imsave\n",
    "from tqdm import tqdm\n",
    "from time import time\n",
    "from math import ceil\n",
    "import cv2\n",
    "import glob\n",
    "import os\n",
    "from shutil import copyfile\n",
    "from random import sample\n",
    "from PIL import Image\n",
    "from tqdm import tqdm\n",
    "\n",
    "def image_show(image, nrows=1, ncols=1, cmap='gray',size = 8):\n",
    "#     large_image = np.zeros((image.shape[0]+2,image.shape[1]+2), dtype = image.dtype) #add black border\n",
    "#     large_image[1:-1,1:-1] = image\n",
    "    \n",
    "    fig, ax = plt.subplots(nrows=nrows, ncols=ncols, figsize=(size, size))\n",
    "    ax.imshow(image, cmap='gray')\n",
    "    ax.axis('off')\n",
    "    plt.show()\n",
    "    return fig, ax"
   ]
  },
  {
   "cell_type": "code",
   "execution_count": null,
   "metadata": {
    "scrolled": true,
    "tags": []
   },
   "outputs": [
    {
     "name": "stdout",
     "output_type": "stream",
     "text": [
      "Z:\\WX\\WX_test_dod\\whobio_sets\\vid2vid_results\\s001_o\\test_latest\\dod*\n",
      "21\n"
     ]
    },
    {
     "name": "stderr",
     "output_type": "stream",
     "text": [
      "  0%|                                                                                           | 0/21 [00:00<?, ?it/s]"
     ]
    },
    {
     "name": "stdout",
     "output_type": "stream",
     "text": [
      "----------- dod_s001c_blk000\n",
      "reading top half...\n"
     ]
    }
   ],
   "source": [
    "biopsy_group = 's001_o' #change\n",
    "\n",
    "v2v_folder = 'Z:\\\\WX\\\\WX_test_dod\\\\whobio_sets\\\\vid2vid_results\\\\'+biopsy_group+'\\\\test_latest' #c\n",
    "seq_list = glob.glob(os.path.join(v2v_folder, 'dod*'))\n",
    "print(os.path.join(v2v_folder, 'dod*'))\n",
    "seq_name_list = []\n",
    "for seq in seq_list:\n",
    "    seq_name = os.path.basename(seq)[:-1]\n",
    "#     print(seq_name)\n",
    "    if seq_name not in seq_name_list:\n",
    "        seq_name_list.append(seq_name)\n",
    "print(len(seq_name_list))\n",
    "\n",
    "p2p_folder = 'Z:\\\\WX\\\\WX_test_dod\\\\whobio_sets\\\\'+biopsy_group+'\\\\test\\\\ch0' #c\n",
    "\n",
    "full_seq_folder = os.path.join(os.path.dirname(v2v_folder), 'full_seq')\n",
    "if not os.path.exists(full_seq_folder):\n",
    "    os.makedirs(full_seq_folder)\n",
    "        \n",
    "for seq_name in tqdm(seq_name_list): #seq_name_list\n",
    "   \n",
    "    print('-----------', seq_name)\n",
    "        \n",
    "    top_seq_dir = os.path.join(v2v_folder, seq_name+'t')\n",
    "    top_seq_frame_list = glob.glob(os.path.join(top_seq_dir,'fake_B*'))\n",
    "    nf_top = len(top_seq_frame_list)\n",
    "#     print(nf_top)\n",
    "    #read top\n",
    "    top_half = np.zeros((nf_top,1024,1024),dtype = np.uint8)\n",
    "    print('reading top half...')\n",
    "    for idx in range(nf_top): #range(nf_top)\n",
    "        frame_dir = top_seq_frame_list[idx]\n",
    "        frame = (io.imread(frame_dir, as_gray = True)*255).astype(np.uint8) \n",
    "#         image_show(frame)\n",
    "        top_half[nf_top-idx-1] = frame #go backwards,grayscale\n",
    "    print('len(top_half)', len(top_half))\n",
    "#     image_show(top_half[len(top_half)//2])\n",
    "\n",
    "    bot_seq_dir = os.path.join(v2v_folder, seq_name+'b')\n",
    "    bot_seq_frame_list = glob.glob(os.path.join(bot_seq_dir,'fake_B*'))\n",
    "    nf_bot = len(bot_seq_frame_list)\n",
    "#     print(nf_bot)\n",
    "    #read bottom\n",
    "    print('reading bottom half...')\n",
    "    bot_half = np.zeros((nf_bot,1024,1024),dtype = np.uint8)\n",
    "    for idx in range(nf_bot):\n",
    "        frame_dir = bot_seq_frame_list[idx]\n",
    "        bot_half[idx] = (io.imread(frame_dir, as_gray = True)*255).astype(np.uint8)\n",
    "    print('len(bot_half)', len(bot_half))\n",
    "#     image_show(bot_half[len(bot_half)//2])\n",
    "    \n",
    "    #separate use and blend seq from top and botttom\n",
    "    full_height = nf_top+nf_bot-30 #30 infrence frame overlap\n",
    "    print('full_height', full_height)\n",
    "    full_seq = np.zeros((full_height,1024,1024), dtype = np.uint8)\n",
    "    \n",
    "    top_use = top_half[:nf_top-20] #now top_half is in top-to-bottom direction, same as botttom_half\n",
    "    top_blend = top_half[nf_top-20:nf_top-10] #last 20-10 frames are for blending, discard last 10 frames\n",
    "    \n",
    "    bot_use = bot_half[20:] #discard first 10 frames, first 10-20 frames are for blending\n",
    "    bot_blend = bot_half[10:20]\n",
    "    \n",
    "    #linear blend the middle 10 frames\n",
    "    bot_alpha = np.array([0.1, 0.2, 0.3, 0.4, 0.5, 0.5, 0.6, 0.7, 0.8, 0.9]) #10 frames\n",
    "    top_alpha = 1- bot_alpha\n",
    "    blend = (bot_alpha[:, None, None]*bot_blend + top_alpha[:, None, None]*top_blend).astype(np.uint8) #linear blending\n",
    "    \n",
    "    #assemble\n",
    "    full_seq[:nf_top-20] = top_use\n",
    "    full_seq[nf_top-20:nf_top-10] = blend\n",
    "    full_seq[nf_top-10:] = bot_use    \n",
    "#     full_seq[:nf_top-10] = top_half\n",
    "#     full_seq[nf_top:nf_top+nf_mid] = mid\n",
    "#     full_seq[nf_top+nf_mid:nf_top+nf_mid+nf_bot] = bot_half\n",
    "    image_show(full_seq[len(full_seq)//2])\n",
    "    \n",
    "    full_seq_dir = os.path.join(full_seq_folder, seq_name+'.tif')\n",
    "    imsave(full_seq_dir, full_seq)\n"
   ]
  },
  {
   "cell_type": "code",
   "execution_count": 4,
   "metadata": {},
   "outputs": [
    {
     "name": "stdout",
     "output_type": "stream",
     "text": [
      "1\n"
     ]
    }
   ],
   "source": [
    "# create folders for each biopsy and move blocks into the folder\n",
    "from shutil import move\n",
    "\n",
    "biopsy_name_list = []\n",
    "for seq_name in seq_name_list:\n",
    "    cur_biopsy = seq_name[:9]\n",
    "    biopsy_dir = os.path.join(full_seq_folder, cur_biopsy)\n",
    "    if cur_biopsy not in biopsy_name_list:\n",
    "        biopsy_name_list.append(cur_biopsy)\n",
    "        os.makedirs(biopsy_dir)\n",
    "    seq_dir = os.path.join(full_seq_folder,seq_name+'.tif')\n",
    "    dest_dir = os.path.join(biopsy_dir, seq_name+'.tif')\n",
    "    move(seq_dir, dest_dir)\n",
    "print(len(biopsy_name_list))"
   ]
  },
  {
   "cell_type": "code",
   "execution_count": 5,
   "metadata": {},
   "outputs": [
    {
     "data": {
      "text/plain": [
       "0"
      ]
     },
     "execution_count": 5,
     "metadata": {},
     "output_type": "execute_result"
    }
   ],
   "source": [
    "# Calling imageJ macro for stitching blocks into full-res biopsy and save tiff image\n",
    "# relying to fiji macro C:\\\\Users\\\\Administrator\\\\Documents\\\\fiji-win64\\\\Fiji.app\\\\macros\\\\stitch_biopsies_pythoncall.ijm\n",
    "import subprocess\n",
    "\n",
    "executable = \"C:\\\\Users\\\\Administrator\\\\Documents\\\\fiji-win64\\\\Fiji.app\\\\ImageJ-win64.exe\"\n",
    "\n",
    "process_name = \" -macro C:\\\\Users\\\\Administrator\\\\Documents\\\\fiji-win64\\\\Fiji.app\\\\macros\\\\stitch_biopsies_pythoncall.ijm \"\n",
    "# the blanks in process_name is important for the format to be read by fiji, don't change.\n",
    "\n",
    "wait_buffer = subprocess.Popen(executable + process_name + biopsy_group, shell=True)\n",
    "\n",
    "wait_buffer.wait() #wait for the stitching process to finish before finishing this cell"
   ]
  },
  {
   "cell_type": "code",
   "execution_count": null,
   "metadata": {},
   "outputs": [],
   "source": []
  }
 ],
 "metadata": {
  "kernelspec": {
   "display_name": "Python 3 (ipykernel)",
   "language": "python",
   "name": "python3"
  },
  "language_info": {
   "codemirror_mode": {
    "name": "ipython",
    "version": 3
   },
   "file_extension": ".py",
   "mimetype": "text/x-python",
   "name": "python",
   "nbconvert_exporter": "python",
   "pygments_lexer": "ipython3",
   "version": "3.8.3"
  }
 },
 "nbformat": 4,
 "nbformat_minor": 4
}
